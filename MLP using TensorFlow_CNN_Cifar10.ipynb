{
 "cells": [
  {
   "cell_type": "markdown",
   "metadata": {},
   "source": [
    "# ADTA 5900: CNN on CIFAR-10: Final Project"
   ]
  },
  {
   "cell_type": "markdown",
   "metadata": {},
   "source": [
    "## Set Path for Data Folder"
   ]
  },
  {
   "cell_type": "code",
   "execution_count": 1,
   "metadata": {},
   "outputs": [],
   "source": [
    " # Put file path as a string here\n",
    "\n",
    "CIFAR_DIR = 'CIFAR_10_DATA/'"
   ]
  },
  {
   "cell_type": "markdown",
   "metadata": {},
   "source": [
    "## Load Data"
   ]
  },
  {
   "cell_type": "code",
   "execution_count": 2,
   "metadata": {},
   "outputs": [],
   "source": [
    "def unpickle(file):\n",
    "    import pickle\n",
    "    with open(file, 'rb') as fo:\n",
    "        cifar_dict = pickle.load(fo, encoding='bytes')\n",
    "    return cifar_dict"
   ]
  },
  {
   "cell_type": "code",
   "execution_count": 3,
   "metadata": {},
   "outputs": [],
   "source": [
    "dirs = ['batches.meta','data_batch_1','data_batch_2','data_batch_3','data_batch_4','data_batch_5','test_batch']\n",
    "\n",
    "all_data = [0,1,2,3,4,5,6]\n",
    "\n",
    "for i,direc in zip(all_data,dirs):\n",
    "    all_data[i] = unpickle(CIFAR_DIR+direc)"
   ]
  },
  {
   "cell_type": "code",
   "execution_count": 4,
   "metadata": {},
   "outputs": [],
   "source": [
    "batch_meta = all_data[0]\n",
    "data_batch1 = all_data[1]\n",
    "data_batch2 = all_data[2]\n",
    "data_batch3 = all_data[3]\n",
    "data_batch4 = all_data[4]\n",
    "data_batch5 = all_data[5]\n",
    "test_batch = all_data[6]"
   ]
  },
  {
   "cell_type": "code",
   "execution_count": 5,
   "metadata": {},
   "outputs": [
    {
     "data": {
      "text/plain": [
       "{b'num_cases_per_batch': 10000,\n",
       " b'label_names': [b'airplane',\n",
       "  b'automobile',\n",
       "  b'bird',\n",
       "  b'cat',\n",
       "  b'deer',\n",
       "  b'dog',\n",
       "  b'frog',\n",
       "  b'horse',\n",
       "  b'ship',\n",
       "  b'truck'],\n",
       " b'num_vis': 3072}"
      ]
     },
     "execution_count": 5,
     "metadata": {},
     "output_type": "execute_result"
    }
   ],
   "source": [
    "batch_meta"
   ]
  },
  {
   "cell_type": "code",
   "execution_count": 6,
   "metadata": {},
   "outputs": [
    {
     "data": {
      "text/plain": [
       "dict_keys([b'batch_label', b'labels', b'data', b'filenames'])"
      ]
     },
     "execution_count": 6,
     "metadata": {},
     "output_type": "execute_result"
    }
   ],
   "source": [
    "data_batch1.keys()"
   ]
  },
  {
   "cell_type": "markdown",
   "metadata": {},
   "source": [
    "## Display several examples of single images using matplotlib "
   ]
  },
  {
   "cell_type": "code",
   "execution_count": 7,
   "metadata": {},
   "outputs": [],
   "source": [
    "import matplotlib.pyplot as plt\n",
    "%matplotlib inline\n",
    "\n",
    "import numpy as np"
   ]
  },
  {
   "cell_type": "code",
   "execution_count": 8,
   "metadata": {},
   "outputs": [],
   "source": [
    "X = data_batch1[b\"data\"] "
   ]
  },
  {
   "cell_type": "code",
   "execution_count": 9,
   "metadata": {},
   "outputs": [],
   "source": [
    "X = X.reshape(10000, 3, 32, 32).transpose(0,2,3,1).astype(\"uint8\")"
   ]
  },
  {
   "cell_type": "code",
   "execution_count": 10,
   "metadata": {},
   "outputs": [
    {
     "data": {
      "text/plain": [
       "255"
      ]
     },
     "execution_count": 10,
     "metadata": {},
     "output_type": "execute_result"
    }
   ],
   "source": [
    "X[0].max()"
   ]
  },
  {
   "cell_type": "code",
   "execution_count": 11,
   "metadata": {},
   "outputs": [
    {
     "data": {
      "text/plain": [
       "1.0"
      ]
     },
     "execution_count": 11,
     "metadata": {},
     "output_type": "execute_result"
    }
   ],
   "source": [
    "(X[0]/255).max()"
   ]
  },
  {
   "cell_type": "code",
   "execution_count": 12,
   "metadata": {},
   "outputs": [
    {
     "data": {
      "text/plain": [
       "<matplotlib.image.AxesImage at 0x7f6913e30fd0>"
      ]
     },
     "execution_count": 12,
     "metadata": {},
     "output_type": "execute_result"
    },
    {
     "data": {
      "image/png": "[encoded data removed]",
      "text/plain": [
       "<Figure size 432x288 with 1 Axes>"
      ]
     },
     "metadata": {
      "needs_background": "light"
     },
     "output_type": "display_data"
    }
   ],
   "source": [
    "plt.imshow(X[0])"
   ]
  },
  {
   "cell_type": "code",
   "execution_count": 13,
   "metadata": {},
   "outputs": [
    {
     "data": {
      "text/plain": [
       "<matplotlib.image.AxesImage at 0x7f6913d68350>"
      ]
     },
     "execution_count": 13,
     "metadata": {},
     "output_type": "execute_result"
    },
    {
     "data": {
      "image/png": "[encoded data removed]",
      "text/plain": [
       "<Figure size 432x288 with 1 Axes>"
      ]
     },
     "metadata": {
      "needs_background": "light"
     },
     "output_type": "display_data"
    }
   ],
   "source": [
    "plt.imshow(X[1])"
   ]
  },
  {
   "cell_type": "code",
   "execution_count": 14,
   "metadata": {},
   "outputs": [
    {
     "data": {
      "text/plain": [
       "<matplotlib.image.AxesImage at 0x7f6913ce2350>"
      ]
     },
     "execution_count": 14,
     "metadata": {},
     "output_type": "execute_result"
    },
    {
     "data": {
      "image/png": "[encoded data removed]",
      "text/plain": [
       "<Figure size 432x288 with 1 Axes>"
      ]
     },
     "metadata": {
      "needs_background": "light"
     },
     "output_type": "display_data"
    }
   ],
   "source": [
    "plt.imshow(X[4])"
   ]
  },
  {
   "cell_type": "markdown",
   "metadata": {},
   "source": [
    "## Supporting Functions to Rearrange Data"
   ]
  },
  {
   "cell_type": "markdown",
   "metadata": {},
   "source": [
    "### Encode Labels into One-Hot Format"
   ]
  },
  {
   "cell_type": "code",
   "execution_count": 15,
   "metadata": {},
   "outputs": [],
   "source": [
    "def one_hot_encode(vec, vals=10):\n",
    "    '''\n",
    "    For use to one-hot encode the 10- possible labels\n",
    "    '''\n",
    "    n = len(vec)\n",
    "    out = np.zeros((n, vals))\n",
    "    out[range(n), vec] = 1\n",
    "    return out"
   ]
  },
  {
   "cell_type": "markdown",
   "metadata": {},
   "source": [
    "## Set Up Image Data: Make it Ready to be Fed into 1st Conv Layer"
   ]
  },
  {
   "cell_type": "code",
   "execution_count": 16,
   "metadata": {},
   "outputs": [],
   "source": [
    "class CifarHelper():\n",
    "    \n",
    "    def __init__(self):\n",
    "        self.i = 0\n",
    "        \n",
    "        self.all_train_batches = [data_batch1,data_batch2,data_batch3,data_batch4,data_batch5]\n",
    "        self.test_batch = [test_batch]\n",
    "        \n",
    "        self.training_images = None\n",
    "        self.training_labels = None\n",
    "        \n",
    "        self.test_images = None\n",
    "        self.test_labels = None\n",
    "    \n",
    "    def set_up_images(self):\n",
    "        \n",
    "        print(\"Setting Up Training Images and Labels\")\n",
    "        \n",
    "        self.training_images = np.vstack([d[b\"data\"] for d in self.all_train_batches])\n",
    "        train_len = len(self.training_images)\n",
    "        \n",
    "        self.training_images = self.training_images.reshape(train_len,3,32,32).transpose(0,2,3,1)/255\n",
    "        self.training_labels = one_hot_encode(np.hstack([d[b\"labels\"] for d in self.all_train_batches]), 10)\n",
    "        \n",
    "        print(\"Setting Up Test Images and Labels\")\n",
    "        \n",
    "        self.test_images = np.vstack([d[b\"data\"] for d in self.test_batch])\n",
    "        test_len = len(self.test_images)\n",
    "        \n",
    "        self.test_images = self.test_images.reshape(test_len,3,32,32).transpose(0,2,3,1)/255\n",
    "        self.test_labels = one_hot_encode(np.hstack([d[b\"labels\"] for d in self.test_batch]), 10)\n",
    "\n",
    "        \n",
    "    def next_batch(self, batch_size):\n",
    "        x = self.training_images[self.i:self.i+batch_size].reshape(100,32,32,3)\n",
    "        y = self.training_labels[self.i:self.i+batch_size]\n",
    "        self.i = (self.i + batch_size) % len(self.training_images)\n",
    "        return x, y"
   ]
  },
  {
   "cell_type": "markdown",
   "metadata": {},
   "source": [
    "## Set up image data: Calling CifarHelper.set_up_images()"
   ]
  },
  {
   "cell_type": "code",
   "execution_count": 17,
   "metadata": {},
   "outputs": [
    {
     "name": "stdout",
     "output_type": "stream",
     "text": [
      "Setting Up Training Images and Labels\n",
      "Setting Up Test Images and Labels\n"
     ]
    }
   ],
   "source": [
    "# Before Your tf.Session run these two lines\n",
    "ch = CifarHelper()\n",
    "ch.set_up_images()\n",
    "\n",
    "# During your session to grab the next batch use this line\n",
    "# (Just like we did for mnist.train.next_batch)\n",
    "# batch = ch.next_batch(100)"
   ]
  },
  {
   "cell_type": "markdown",
   "metadata": {},
   "source": [
    "## Define Supporting Functions to Build, Train, and Test CNN Model"
   ]
  },
  {
   "cell_type": "markdown",
   "metadata": {},
   "source": [
    "#### Initialize weights in filter"
   ]
  },
  {
   "cell_type": "code",
   "execution_count": 18,
   "metadata": {},
   "outputs": [],
   "source": [
    "#This function returns a tf.variable used to store weights in a filter\n",
    "#This variable is initialised with values that can be used to initialize the weights\n",
    "#The values are random numbers\n",
    "    \n",
    "def initialize_weights (filter_shape):\n",
    "    init_random_dist = tf.truncated_normal(filter_shape, stddev=0.1)\n",
    "    return(tf.Variable(init_random_dist))"
   ]
  },
  {
   "cell_type": "markdown",
   "metadata": {},
   "source": [
    "#### Initialize bias"
   ]
  },
  {
   "cell_type": "code",
   "execution_count": 19,
   "metadata": {},
   "outputs": [],
   "source": [
    "#This function returns a tf.variable used to store bias\n",
    "#This variable is initialised with values that can be used to initialize bias\n",
    "#The value is initialised to 0.1\n",
    "    \n",
    "def initialize_bias (bias_shape):\n",
    "    initial_bias_vals = tf.constant(0.1,shape=bias_shape)\n",
    "    return(tf.Variable(initial_bias_vals))"
   ]
  },
  {
   "cell_type": "markdown",
   "metadata": {},
   "source": [
    "#### Setup convolution layer and perform convolution computation: Dot Product(x*W)"
   ]
  },
  {
   "cell_type": "code",
   "execution_count": 20,
   "metadata": {},
   "outputs": [],
   "source": [
    "#define a function to setup a convolution layer (conv2d)\n",
    "#parameters:\n",
    "    #inputs: [batch,H,W,Channels]\n",
    "    #filter_shape: [filter H, filter W, in_channels(in_depth=in_num_filters), out_channels(out_depth=out_num_filters)]\n",
    "        #example: [3,3,3,64]\n",
    "#return: Outputs of the layer: The dot product: inputs*weights: x*w\n",
    "        \n",
    "def create_convolution_layer_and_compute_dot_product(inputs, filter_shape):\n",
    "    #initialize the wieghts in the filter\n",
    "    filter_initialized_with_weights=initialize_weights(filter_shape)\n",
    "    \n",
    "    #create a colvolution layer\n",
    "    conv_layer_outputs=tf.nn.conv2d(inputs, filter_initialized_with_weights, strides=[1,1,1,1], padding=('SAME'))\n",
    "    \n",
    "    #return the convolution layer outputs\n",
    "    return(conv_layer_outputs)"
   ]
  },
  {
   "cell_type": "markdown",
   "metadata": {},
   "source": [
    "#### Setup a ReLU layer and perform computation: Dot Product + Bias (x.W + b)"
   ]
  },
  {
   "cell_type": "code",
   "execution_count": 21,
   "metadata": {},
   "outputs": [],
   "source": [
    "#Function is defined\n",
    "    #First, to setup a ReLU layer (an activation function layer)\n",
    "    #then, to prrform the computation: dot product+bias: (x+W)+b\n",
    "    \n",
    "#ReLU: is a rectifiled linear unit, a popular activation function used in CNN\n",
    "#in this layer, the bias has been initialised\n",
    "#parameters:\n",
    "    #inputs: Outputs from the preceeding convolution layer: Dot product inputs * weights\n",
    "    #filter_shape: [filter H, filter W, in_channels(in_depth=in_num_filters), out_channels(out_depth=out_num_filters)]\n",
    "        #example: [3,3,3,64]\n",
    "#return: Outputs of the layer: The dot product + b: (x*W)+b\n",
    "\n",
    "def create_relu_layer_and_compute_dotproduct_plus_b(inputs, filter_shape):\n",
    "    #initialize bias for each input channel\n",
    "    b=initialize_bias([filter_shape[3]])\n",
    "    \n",
    "    #perform the computation first by adding: inputs (x*W) + b\n",
    "    #create a ReLU layer associated with the preceeding convolution layer\n",
    "    relu_layer_outputs=tf.nn.relu(inputs+b)\n",
    "    \n",
    "    #return the outputs of the relu layer\n",
    "    return (relu_layer_outputs)"
   ]
  },
  {
   "cell_type": "markdown",
   "metadata": {},
   "source": [
    "#### Setup a pooling layer and reduce the spacial size"
   ]
  },
  {
   "cell_type": "code",
   "execution_count": 22,
   "metadata": {},
   "outputs": [],
   "source": [
    "#Function is defined\n",
    "    #First, to create a pooling layer\n",
    "    #then, to reduce the spatial size of the inputs data\n",
    "    \n",
    "#pooling method: max pooling\n",
    "#kernel size: 2*2\n",
    "#stride:2\n",
    "\n",
    "#parameters: \n",
    "    #inputs: Outputs of the preceeding layer\n",
    "    #return: Outputs of the layer\n",
    "    \n",
    "def create_maxpool2by2_and_reduce_spacial_size(inputs):\n",
    "    #create a pooling layer\n",
    "    pooling_layer_outputs=tf.nn.max_pool(inputs,ksize=[1,2,2,1], strides=[1,2,2,1], padding='SAME')\n",
    "    \n",
    "    #return the pooling layer\n",
    "    return (pooling_layer_outputs)"
   ]
  },
  {
   "cell_type": "markdown",
   "metadata": {},
   "source": [
    "#### Setup fully connected layer and perform computation: (inputs*weights)+Bias"
   ]
  },
  {
   "cell_type": "code",
   "execution_count": 23,
   "metadata": {},
   "outputs": [],
   "source": [
    "#define a function to setup a fully connected layer\n",
    "#Also perform computation: (Dot Product (inputs*weights))+bias\n",
    "#return the results\n",
    "#parameters: \n",
    "    #inputs: Outputs of the preceeding layer\n",
    "    #size: The size of the outputs, i.e., number of out_channels\n",
    "    \n",
    "def create_fully_connected_layer_and_compute_dotproduct_plus_bias(inputs,output_size):\n",
    "    #get the number of input channels from the inpt\n",
    "    #inputs: the outputs from the preceding layer or previous operation like reshaping\n",
    "    input_size=int(inputs.get_shape()[1])\n",
    "    \n",
    "    #Initialise the weights of the filter of the FC layer\n",
    "    #Filter shape [in_channels, out_channels]\n",
    "    #each weight for one filter cell\n",
    "    W=initialize_weights([input_size, output_size])\n",
    "    \n",
    "    #initialize the bias: each bias one output channel\n",
    "    b=initialize_bias([output_size])\n",
    "    \n",
    "    #First: Perform the computation for the FC layer: Dot product inputs*W\n",
    "    #Then: Add bias to get the results: Outputs of the FC layer\n",
    "    fc_xW_plus_bias_outputs=tf.matmul(inputs,W)+b\n",
    "    \n",
    "    #return the results: outputs\n",
    "    return(fc_xW_plus_bias_outputs)"
   ]
  },
  {
   "cell_type": "markdown",
   "metadata": {},
   "source": [
    "# PHASE I: Build Convolutional Neural Network"
   ]
  },
  {
   "cell_type": "code",
   "execution_count": 24,
   "metadata": {},
   "outputs": [],
   "source": [
    "import tensorflow as tf"
   ]
  },
  {
   "cell_type": "markdown",
   "metadata": {},
   "source": [
    "## Create Placeholders for Inputs and Labels: x and y_true"
   ]
  },
  {
   "cell_type": "code",
   "execution_count": 25,
   "metadata": {},
   "outputs": [],
   "source": [
    "# PLACEHOLDER\n",
    "\n",
    "# Create a placeholder for the inputs data: x\n",
    "# x: a 2D array\n",
    "# x: a placeholder that can hold any number of rows/record\n",
    "\n",
    "x = tf.placeholder(tf.float32, shape=[None, 32, 32, 3])"
   ]
  },
  {
   "cell_type": "markdown",
   "metadata": {},
   "source": [
    "## Reshape the Input Placeholder x: NOT NEED TO RESHAPE DATA HERE"
   ]
  },
  {
   "cell_type": "code",
   "execution_count": 26,
   "metadata": {},
   "outputs": [],
   "source": [
    "# PLACEHOLDER\n",
    "\n",
    "# Create a placeholder for the labels of the inputs data: y_true\n",
    "# y_true: a 2D array\n",
    "# y_true: Can hold any number of rows/records\n",
    "\n",
    "y_true = tf.placeholder(tf.float32, [None, 10])"
   ]
  },
  {
   "cell_type": "markdown",
   "metadata": {},
   "source": [
    "### Create 1st Convolution Layer and ReLU Layer and Perform Computation: x*W+b"
   ]
  },
  {
   "cell_type": "code",
   "execution_count": 27,
   "metadata": {},
   "outputs": [],
   "source": [
    "#create 1st convolutional layer\n",
    "#inputs: x\n",
    "#filter shape: [3,3,3,64]\n",
    "    #filter: 3*3\n",
    "    #Input Channels: 3\n",
    "    #Output Channels: 64\n",
    "    \n",
    "#create the 1st convolution layer\n",
    "#Then learn/extract the features, get the results(output): Dot product of inputs*weights\n",
    "#Return the output of the layer\n",
    "\n",
    "conv_layer_1_outputs=create_convolution_layer_and_compute_dot_product(x, filter_shape=[3,3,3,64])\n",
    "\n",
    "#create the relu layer for the 1st convolutional layer\n",
    "#accept the outputs from the first conv layer as inputs\n",
    "#perform the computation at the layer: add inputs + bias\n",
    "#return the outputs of the layer\n",
    "\n",
    "conv_relu_layer_1_outputs=create_relu_layer_and_compute_dotproduct_plus_b(conv_layer_1_outputs, filter_shape=[3,3,3,64])"
   ]
  },
  {
   "cell_type": "markdown",
   "metadata": {},
   "source": [
    "### Create 1st Pooling Layer and Reduce Spatial Size"
   ]
  },
  {
   "cell_type": "code",
   "execution_count": 28,
   "metadata": {},
   "outputs": [],
   "source": [
    "#create the 1st pooling layer\n",
    "#Then reduce the spatial size of the input data\n",
    "#Return: Outputs of the layer\n",
    "\n",
    "pooling_layer_1_outputs=create_maxpool2by2_and_reduce_spacial_size(conv_relu_layer_1_outputs)"
   ]
  },
  {
   "cell_type": "markdown",
   "metadata": {},
   "source": [
    "### Create 2nd Convolution Layer and ReLU Layer and Perform Computation: x*W+b"
   ]
  },
  {
   "cell_type": "code",
   "execution_count": 29,
   "metadata": {},
   "outputs": [],
   "source": [
    "#create 2nd convolutional layer\n",
    "#inputs: x\n",
    "#filter shape: [3,3,64,128]\n",
    "    #filter: 3*3\n",
    "    #Input Channels: 64\n",
    "    #Output Channels: 128\n",
    "    \n",
    "#create the 2nd convolution layer\n",
    "#Then learn/extract the features, get the results(output): Dot product of inputs*weights\n",
    "#Return the output of the layer\n",
    "\n",
    "conv_layer_2_outputs=create_convolution_layer_and_compute_dot_product(pooling_layer_1_outputs, filter_shape=[3,3,64,128])\n",
    "\n",
    "#create the relu layer for the 1st convolutional layer\n",
    "#accept the outputs from the first conv layer as inputs\n",
    "#perform the computation at the layer: add inputs + bias\n",
    "#return the outputs of the layer\n",
    "\n",
    "conv_relu_layer_2_outputs=create_relu_layer_and_compute_dotproduct_plus_b(conv_layer_2_outputs, filter_shape=[3,3,64,128])"
   ]
  },
  {
   "cell_type": "markdown",
   "metadata": {},
   "source": [
    "### Create 2nd Pooling Layer and Reduce Spatial Size"
   ]
  },
  {
   "cell_type": "code",
   "execution_count": 30,
   "metadata": {},
   "outputs": [],
   "source": [
    "#create the 2nd pooling layer\n",
    "#Then reduce the spatial size of the input data\n",
    "#Return: Outputs of the layer\n",
    "\n",
    "pooling_layer_2_outputs=create_maxpool2by2_and_reduce_spacial_size(conv_relu_layer_2_outputs)"
   ]
  },
  {
   "cell_type": "markdown",
   "metadata": {},
   "source": [
    "### Create 3rd Convolution Layer and ReLU Layer and Perform Computation: x*W+b"
   ]
  },
  {
   "cell_type": "code",
   "execution_count": 31,
   "metadata": {},
   "outputs": [],
   "source": [
    "#create 3rd convolutional layer\n",
    "#inputs: x\n",
    "#filter shape: [3,3,64,128]\n",
    "    #filter: 3*3\n",
    "    #Input Channels: 64\n",
    "    #Output Channels: 128\n",
    "    \n",
    "#create the 2nd convolution layer\n",
    "#Then learn/extract the features, get the results(output): Dot product of inputs*weights\n",
    "#Return the output of the layer\n",
    "\n",
    "conv_layer_3_outputs=create_convolution_layer_and_compute_dot_product(pooling_layer_2_outputs, filter_shape=[3,3,128,256])\n",
    "\n",
    "#create the relu layer for the 1st convolutional layer\n",
    "#accept the outputs from the first conv layer as inputs\n",
    "#perform the computation at the layer: add inputs + bias\n",
    "#return the outputs of the layer\n",
    "\n",
    "conv_relu_layer_3_outputs=create_relu_layer_and_compute_dotproduct_plus_b(conv_layer_3_outputs, filter_shape=[3,3,128,256])"
   ]
  },
  {
   "cell_type": "markdown",
   "metadata": {},
   "source": [
    "### Create 3rd Pooling Layer and Reduce Spatial Size"
   ]
  },
  {
   "cell_type": "code",
   "execution_count": 32,
   "metadata": {},
   "outputs": [],
   "source": [
    "#create the 2nd pooling layer\n",
    "#Then reduce the spatial size of the input data\n",
    "#Return: Outputs of the layer\n",
    "\n",
    "pooling_layer_3_outputs=create_maxpool2by2_and_reduce_spacial_size(conv_relu_layer_3_outputs)"
   ]
  },
  {
   "cell_type": "markdown",
   "metadata": {},
   "source": [
    "### Flatten data to make it ready to be fed into 1st FC layer"
   ]
  },
  {
   "cell_type": "code",
   "execution_count": 33,
   "metadata": {},
   "outputs": [
    {
     "name": "stdout",
     "output_type": "stream",
     "text": [
      "WARNING:tensorflow:\n",
      "The TensorFlow contrib module will not be included in TensorFlow 2.0.\n",
      "For more information, please see:\n",
      "  * https://github.com/tensorflow/community/blob/master/rfcs/20180907-contrib-sunset.md\n",
      "  * https://github.com/tensorflow/addons\n",
      "  * https://github.com/tensorflow/io (for I/O related ops)\n",
      "If you depend on functionality not listed there, please file an issue.\n",
      "\n",
      "WARNING:tensorflow:From /opt/conda/lib/python3.7/site-packages/tensorflow_core/contrib/layers/python/layers/layers.py:1634: flatten (from tensorflow.python.layers.core) is deprecated and will be removed in a future version.\n",
      "Instructions for updating:\n",
      "Use keras.layers.flatten instead.\n",
      "WARNING:tensorflow:From /opt/conda/lib/python3.7/site-packages/tensorflow_core/python/layers/core.py:332: Layer.apply (from tensorflow.python.keras.engine.base_layer) is deprecated and will be removed in a future version.\n",
      "Instructions for updating:\n",
      "Please use `layer.__call__` method instead.\n"
     ]
    }
   ],
   "source": [
    "pooling_layer_3_outputs_flat=tf.contrib.layers.flatten(pooling_layer_3_outputs)"
   ]
  },
  {
   "cell_type": "markdown",
   "metadata": {},
   "source": [
    "### Create 1st FC layer, ReLU layer, and output data to dropout layer"
   ]
  },
  {
   "cell_type": "code",
   "execution_count": 34,
   "metadata": {},
   "outputs": [],
   "source": [
    "#First, create the FC layer\n",
    "#Feed the output(already flattened) of the 2nd pooling layer as the inputs to this layer\n",
    "#then perform the computation: dot product+bias(x*W)+b\n",
    "\n",
    "#parameters:\n",
    "    #pooling_layer_2_outputs_flat\n",
    "    #output_size:1024 out channels\n",
    "    \n",
    "#return: outputs of the computation: (x * W) + b\n",
    "\n",
    "fc_layer_1_outputs=create_fully_connected_layer_and_compute_dotproduct_plus_bias(pooling_layer_3_outputs_flat, output_size=1024)\n",
    "\n",
    "#create the activation (ReLU) layer of the 1st FC layer\n",
    "#return: outputs of the layer\n",
    "\n",
    "fc_relu_layer_1_outputs=tf.nn.relu(fc_layer_1_outputs)"
   ]
  },
  {
   "cell_type": "markdown",
   "metadata": {},
   "source": [
    "### Create dropout layer and dropout a fraction of outputs randomly"
   ]
  },
  {
   "cell_type": "code",
   "execution_count": 35,
   "metadata": {},
   "outputs": [
    {
     "name": "stdout",
     "output_type": "stream",
     "text": [
      "WARNING:tensorflow:From <ipython-input-35-81d5ebbcd665>:11: calling dropout (from tensorflow.python.ops.nn_ops) with keep_prob is deprecated and will be removed in a future version.\n",
      "Instructions for updating:\n",
      "Please use `rate` instead of `keep_prob`. Rate should be set to `rate = 1 - keep_prob`.\n"
     ]
    }
   ],
   "source": [
    "#declare a placeholder to hold the value of probability (percentage %) to keep\n",
    "#i.e., the percentage % of the total output channels that will be kept\n",
    "#e.g.,: keep_prob=hold_prob=50%-->keep 50%-->dropout-->50%\n",
    "#which modes/channels to keep or dropout: selected randomly\n",
    "\n",
    "hold_prob=tf.placeholder(tf.float32)\n",
    "\n",
    "#dropout\n",
    "#set the outputs to 0 (zero) so that they will be ignored in the next layer\n",
    "\n",
    "fc_dropout_outputs=tf.nn.dropout(fc_relu_layer_1_outputs, keep_prob=hold_prob)"
   ]
  },
  {
   "cell_type": "markdown",
   "metadata": {},
   "source": [
    "### Create a Final FC layer, Compute (x.W+b), and produce final outputs"
   ]
  },
  {
   "cell_type": "code",
   "execution_count": 36,
   "metadata": {},
   "outputs": [],
   "source": [
    "#create the final FC layer\n",
    "#then compute: x*W+b\n",
    "#parameters:\n",
    "    #fc_dropout_outputs: outputs from the dropout layer\n",
    "    \n",
    "#return y_pred: final predicted outputs\n",
    "\n",
    "y_pred=create_fully_connected_layer_and_compute_dotproduct_plus_bias(fc_dropout_outputs, output_size=10)"
   ]
  },
  {
   "cell_type": "markdown",
   "metadata": {},
   "source": [
    "### Define loss function and calculate softmax cross entropy loss"
   ]
  },
  {
   "cell_type": "code",
   "execution_count": 37,
   "metadata": {},
   "outputs": [
    {
     "name": "stdout",
     "output_type": "stream",
     "text": [
      "WARNING:tensorflow:From <ipython-input-37-3e3261f3eb1c>:3: softmax_cross_entropy_with_logits (from tensorflow.python.ops.nn_ops) is deprecated and will be removed in a future version.\n",
      "Instructions for updating:\n",
      "\n",
      "Future major versions of TensorFlow will allow gradients to flow\n",
      "into the labels input on backprop by default.\n",
      "\n",
      "See `tf.nn.softmax_cross_entropy_with_logits_v2`.\n",
      "\n"
     ]
    }
   ],
   "source": [
    "#define loss function: cross-entropy with logits, i.e., with the final outputs\n",
    "#calculate the softmax cross-entropy loss\n",
    "softmax_cross_entropy_loss=tf.nn.softmax_cross_entropy_with_logits(labels=y_true, logits=y_pred)\n",
    "\n",
    "#compute the mean of losses\n",
    "cross_entropy_mean=tf.reduce_mean(softmax_cross_entropy_loss)"
   ]
  },
  {
   "cell_type": "markdown",
   "metadata": {},
   "source": [
    "### Create an optimizer to optimize CNN model and set learning rate"
   ]
  },
  {
   "cell_type": "code",
   "execution_count": 38,
   "metadata": {},
   "outputs": [],
   "source": [
    "#get an ADAM optimizer\n",
    "optimizer=tf.train.AdamOptimizer(learning_rate=0.001)"
   ]
  },
  {
   "cell_type": "markdown",
   "metadata": {},
   "source": [
    "### Create a trainer to train the CNN model"
   ]
  },
  {
   "cell_type": "code",
   "execution_count": 39,
   "metadata": {},
   "outputs": [],
   "source": [
    "#create a CNN model trainer that can train the model\n",
    "#and optimize the model by minimizing the softmax cross-entropy loss\n",
    "cnn_trainer=optimizer.minimize(cross_entropy_mean)"
   ]
  },
  {
   "cell_type": "markdown",
   "metadata": {},
   "source": [
    "# PHASE II: Train and Test CNN Model on CIFAR-10 Dataset"
   ]
  },
  {
   "cell_type": "markdown",
   "metadata": {},
   "source": [
    "### Create a variable initializer to initialize all variables"
   ]
  },
  {
   "cell_type": "code",
   "execution_count": 40,
   "metadata": {},
   "outputs": [],
   "source": [
    "#get a variable initializer\n",
    "vars_initializer=tf.global_variables_initializer()"
   ]
  },
  {
   "cell_type": "markdown",
   "metadata": {},
   "source": [
    "### Set the steps and define the Batch"
   ]
  },
  {
   "cell_type": "code",
   "execution_count": 41,
   "metadata": {},
   "outputs": [],
   "source": [
    "#x train has total of 50000 images\n",
    "#1 step: run the whole process (each time of training)\n",
    "#each step, each time of training , use one batch of inputs \n",
    "#batch size=100 images\n",
    "#total no.of batches=50000/100=500\n",
    "\n",
    "#steps=5000, i.e., finish the training after 5000 steps\n",
    "\n",
    "steps=8000\n",
    "batch = ch.next_batch(100)"
   ]
  },
  {
   "cell_type": "markdown",
   "metadata": {},
   "source": [
    "### Run tf.Session() to train and test CNN model"
   ]
  },
  {
   "cell_type": "code",
   "execution_count": 42,
   "metadata": {},
   "outputs": [
    {
     "name": "stdout",
     "output_type": "stream",
     "text": [
      "ON STEP: 0\n",
      "ACCURACY:  15.000000596046448\n",
      "MEAN ACCURACY:  15.000000596046448\n",
      "\n",
      "\n",
      "ON STEP: 100\n",
      "ACCURACY:  40.99999964237213\n",
      "MEAN ACCURACY:  28.00000011920929\n",
      "\n",
      "\n",
      "ON STEP: 200\n",
      "ACCURACY:  51.99999809265137\n",
      "MEAN ACCURACY:  35.999998450279236\n",
      "\n",
      "\n",
      "ON STEP: 300\n",
      "ACCURACY:  50.999999046325684\n",
      "MEAN ACCURACY:  39.74999785423279\n",
      "\n",
      "\n",
      "ON STEP: 400\n",
      "ACCURACY:  54.00000214576721\n",
      "MEAN ACCURACY:  42.59999692440033\n",
      "\n",
      "\n",
      "ON STEP: 500\n",
      "ACCURACY:  61.000001430511475\n",
      "MEAN ACCURACY:  45.666661858558655\n",
      "\n",
      "\n",
      "ON STEP: 600\n",
      "ACCURACY:  57.999998331069946\n",
      "MEAN ACCURACY:  47.428566217422485\n",
      "\n",
      "\n",
      "ON STEP: 700\n",
      "ACCURACY:  58.99999737739563\n",
      "MEAN ACCURACY:  48.875001072883606\n",
      "\n",
      "\n",
      "ON STEP: 800\n",
      "ACCURACY:  62.99999952316284\n",
      "MEAN ACCURACY:  50.4444420337677\n",
      "\n",
      "\n",
      "ON STEP: 900\n",
      "ACCURACY:  62.00000047683716\n",
      "MEAN ACCURACY:  51.5999972820282\n",
      "\n",
      "\n",
      "ON STEP: 1000\n",
      "ACCURACY:  68.99999976158142\n",
      "MEAN ACCURACY:  53.1818151473999\n",
      "\n",
      "\n",
      "ON STEP: 1100\n",
      "ACCURACY:  73.00000190734863\n",
      "MEAN ACCURACY:  54.83333468437195\n",
      "\n",
      "\n",
      "ON STEP: 1200\n",
      "ACCURACY:  70.99999785423279\n",
      "MEAN ACCURACY:  56.07692003250122\n",
      "\n",
      "\n",
      "ON STEP: 1300\n",
      "ACCURACY:  67.00000166893005\n",
      "MEAN ACCURACY:  56.857144832611084\n",
      "\n",
      "\n",
      "ON STEP: 1400\n",
      "ACCURACY:  67.00000166893005\n",
      "MEAN ACCURACY:  57.53333568572998\n",
      "\n",
      "\n",
      "ON STEP: 1500\n",
      "ACCURACY:  79.00000214576721\n",
      "MEAN ACCURACY:  58.87500047683716\n",
      "\n",
      "\n",
      "ON STEP: 1600\n",
      "ACCURACY:  75.99999904632568\n",
      "MEAN ACCURACY:  59.882354736328125\n",
      "\n",
      "\n",
      "ON STEP: 1700\n",
      "ACCURACY:  75.99999904632568\n",
      "MEAN ACCURACY:  60.77778339385986\n",
      "\n",
      "\n",
      "ON STEP: 1800\n",
      "ACCURACY:  72.00000286102295\n",
      "MEAN ACCURACY:  61.36842370033264\n",
      "\n",
      "\n",
      "ON STEP: 1900\n",
      "ACCURACY:  80.0000011920929\n",
      "MEAN ACCURACY:  62.300002574920654\n",
      "\n",
      "\n",
      "ON STEP: 2000\n",
      "ACCURACY:  76.99999809265137\n",
      "MEAN ACCURACY:  63.00000548362732\n",
      "\n",
      "\n",
      "ON STEP: 2100\n",
      "ACCURACY:  81.99999928474426\n",
      "MEAN ACCURACY:  63.863641023635864\n",
      "\n",
      "\n",
      "ON STEP: 2200\n",
      "ACCURACY:  75.0\n",
      "MEAN ACCURACY:  64.34783339500427\n",
      "\n",
      "\n",
      "ON STEP: 2300\n",
      "ACCURACY:  75.0\n",
      "MEAN ACCURACY:  64.79166746139526\n",
      "\n",
      "\n",
      "ON STEP: 2400\n",
      "ACCURACY:  80.0000011920929\n",
      "MEAN ACCURACY:  65.40000438690186\n",
      "\n",
      "\n",
      "ON STEP: 2500\n",
      "ACCURACY:  82.99999833106995\n",
      "MEAN ACCURACY:  66.07692241668701\n",
      "\n",
      "\n",
      "ON STEP: 2600\n",
      "ACCURACY:  82.99999833106995\n",
      "MEAN ACCURACY:  66.70370697975159\n",
      "\n",
      "\n",
      "ON STEP: 2700\n",
      "ACCURACY:  82.99999833106995\n",
      "MEAN ACCURACY:  67.28571653366089\n",
      "\n",
      "\n",
      "ON STEP: 2800\n",
      "ACCURACY:  75.99999904632568\n",
      "MEAN ACCURACY:  67.58620738983154\n",
      "\n",
      "\n",
      "ON STEP: 2900\n",
      "ACCURACY:  81.00000023841858\n",
      "MEAN ACCURACY:  68.03333163261414\n",
      "\n",
      "\n",
      "ON STEP: 3000\n",
      "ACCURACY:  91.00000262260437\n",
      "MEAN ACCURACY:  68.77419352531433\n",
      "\n",
      "\n",
      "ON STEP: 3100\n",
      "ACCURACY:  88.99999856948853\n",
      "MEAN ACCURACY:  69.40624713897705\n",
      "\n",
      "\n",
      "ON STEP: 3200\n",
      "ACCURACY:  87.00000047683716\n",
      "MEAN ACCURACY:  69.93939280509949\n",
      "\n",
      "\n",
      "ON STEP: 3300\n",
      "ACCURACY:  81.00000023841858\n",
      "MEAN ACCURACY:  70.26470303535461\n",
      "\n",
      "\n",
      "ON STEP: 3400\n",
      "ACCURACY:  86.00000143051147\n",
      "MEAN ACCURACY:  70.71428298950195\n",
      "\n",
      "\n",
      "ON STEP: 3500\n",
      "ACCURACY:  89.99999761581421\n",
      "MEAN ACCURACY:  71.24999761581421\n",
      "\n",
      "\n",
      "ON STEP: 3600\n",
      "ACCURACY:  88.99999856948853\n",
      "MEAN ACCURACY:  71.72972559928894\n",
      "\n",
      "\n",
      "ON STEP: 3700\n",
      "ACCURACY:  92.00000166893005\n",
      "MEAN ACCURACY:  72.2631573677063\n",
      "\n",
      "\n",
      "ON STEP: 3800\n",
      "ACCURACY:  83.99999737739563\n",
      "MEAN ACCURACY:  72.56410121917725\n",
      "\n",
      "\n",
      "ON STEP: 3900\n",
      "ACCURACY:  86.00000143051147\n",
      "MEAN ACCURACY:  72.89999723434448\n",
      "\n",
      "\n",
      "ON STEP: 4000\n",
      "ACCURACY:  93.00000071525574\n",
      "MEAN ACCURACY:  73.39024543762207\n",
      "\n",
      "\n",
      "ON STEP: 4100\n",
      "ACCURACY:  93.99999976158142\n",
      "MEAN ACCURACY:  73.88095259666443\n",
      "\n",
      "\n",
      "ON STEP: 4200\n",
      "ACCURACY:  93.00000071525574\n",
      "MEAN ACCURACY:  74.32558536529541\n",
      "\n",
      "\n",
      "ON STEP: 4300\n",
      "ACCURACY:  89.99999761581421\n",
      "MEAN ACCURACY:  74.68181848526001\n",
      "\n",
      "\n",
      "ON STEP: 4400\n",
      "ACCURACY:  94.9999988079071\n",
      "MEAN ACCURACY:  75.13333559036255\n",
      "\n",
      "\n",
      "ON STEP: 4500\n",
      "ACCURACY:  95.99999785423279\n",
      "MEAN ACCURACY:  75.58695673942566\n",
      "\n",
      "\n",
      "ON STEP: 4600\n",
      "ACCURACY:  95.99999785423279\n",
      "MEAN ACCURACY:  76.0212779045105\n",
      "\n",
      "\n",
      "ON STEP: 4700\n",
      "ACCURACY:  93.00000071525574\n",
      "MEAN ACCURACY:  76.37500166893005\n",
      "\n",
      "\n",
      "ON STEP: 4800\n",
      "ACCURACY:  89.99999761581421\n",
      "MEAN ACCURACY:  76.65306329727173\n",
      "\n",
      "\n",
      "ON STEP: 4900\n",
      "ACCURACY:  95.99999785423279\n",
      "MEAN ACCURACY:  77.03999876976013\n",
      "\n",
      "\n",
      "ON STEP: 5000\n",
      "ACCURACY:  93.99999976158142\n",
      "MEAN ACCURACY:  77.37254500389099\n",
      "\n",
      "\n",
      "ON STEP: 5100\n",
      "ACCURACY:  94.9999988079071\n",
      "MEAN ACCURACY:  77.71154046058655\n",
      "\n",
      "\n",
      "ON STEP: 5200\n",
      "ACCURACY:  91.00000262260437\n",
      "MEAN ACCURACY:  77.96226143836975\n",
      "\n",
      "\n",
      "ON STEP: 5300\n",
      "ACCURACY:  92.00000166893005\n",
      "MEAN ACCURACY:  78.22222113609314\n",
      "\n",
      "\n",
      "ON STEP: 5400\n",
      "ACCURACY:  93.99999976158142\n",
      "MEAN ACCURACY:  78.50908637046814\n",
      "\n",
      "\n",
      "ON STEP: 5500\n",
      "ACCURACY:  95.99999785423279\n",
      "MEAN ACCURACY:  78.82142663002014\n",
      "\n",
      "\n",
      "ON STEP: 5600\n",
      "ACCURACY:  95.99999785423279\n",
      "MEAN ACCURACY:  79.12280559539795\n",
      "\n",
      "\n",
      "ON STEP: 5700\n",
      "ACCURACY:  95.99999785423279\n",
      "MEAN ACCURACY:  79.41378951072693\n",
      "\n",
      "\n",
      "ON STEP: 5800\n",
      "ACCURACY:  94.9999988079071\n",
      "MEAN ACCURACY:  79.67796325683594\n",
      "\n",
      "\n",
      "ON STEP: 5900\n",
      "ACCURACY:  97.00000286102295\n",
      "MEAN ACCURACY:  79.96666431427002\n",
      "\n",
      "\n",
      "ON STEP: 6000\n",
      "ACCURACY:  97.00000286102295\n",
      "MEAN ACCURACY:  80.24590015411377\n",
      "\n",
      "\n",
      "ON STEP: 6100\n",
      "ACCURACY:  100.0\n",
      "MEAN ACCURACY:  80.56451678276062\n",
      "\n",
      "\n",
      "ON STEP: 6200\n",
      "ACCURACY:  98.00000190734863\n",
      "MEAN ACCURACY:  80.84127306938171\n",
      "\n",
      "\n",
      "ON STEP: 6300\n",
      "ACCURACY:  95.99999785423279\n",
      "MEAN ACCURACY:  81.07812404632568\n",
      "\n",
      "\n",
      "ON STEP: 6400\n",
      "ACCURACY:  97.00000286102295\n",
      "MEAN ACCURACY:  81.32307529449463\n",
      "\n",
      "\n",
      "ON STEP: 6500\n",
      "ACCURACY:  99.00000095367432\n",
      "MEAN ACCURACY:  81.59091472625732\n",
      "\n",
      "\n",
      "ON STEP: 6600\n",
      "ACCURACY:  99.00000095367432\n",
      "MEAN ACCURACY:  81.85074925422668\n",
      "\n",
      "\n",
      "ON STEP: 6700\n",
      "ACCURACY:  95.99999785423279\n",
      "MEAN ACCURACY:  82.05882906913757\n",
      "\n",
      "\n",
      "ON STEP: 6800\n",
      "ACCURACY:  98.00000190734863\n",
      "MEAN ACCURACY:  82.28985667228699\n",
      "\n",
      "\n",
      "ON STEP: 6900\n",
      "ACCURACY:  99.00000095367432\n",
      "MEAN ACCURACY:  82.5285792350769\n",
      "\n",
      "\n",
      "ON STEP: 7000\n",
      "ACCURACY:  100.0\n",
      "MEAN ACCURACY:  82.77465105056763\n",
      "\n",
      "\n",
      "ON STEP: 7100\n",
      "ACCURACY:  100.0\n",
      "MEAN ACCURACY:  83.01389217376709\n",
      "\n",
      "\n",
      "ON STEP: 7200\n",
      "ACCURACY:  97.00000286102295\n",
      "MEAN ACCURACY:  83.20547938346863\n",
      "\n",
      "\n",
      "ON STEP: 7300\n",
      "ACCURACY:  98.00000190734863\n",
      "MEAN ACCURACY:  83.40540528297424\n",
      "\n",
      "\n",
      "ON STEP: 7400\n",
      "ACCURACY:  98.00000190734863\n",
      "MEAN ACCURACY:  83.60000252723694\n",
      "\n",
      "\n",
      "ON STEP: 7500\n",
      "ACCURACY:  100.0\n",
      "MEAN ACCURACY:  83.81578922271729\n",
      "\n",
      "\n",
      "ON STEP: 7600\n",
      "ACCURACY:  100.0\n",
      "MEAN ACCURACY:  84.02596712112427\n",
      "\n",
      "\n",
      "ON STEP: 7700\n",
      "ACCURACY:  100.0\n",
      "MEAN ACCURACY:  84.23076272010803\n",
      "\n",
      "\n",
      "ON STEP: 7800\n",
      "ACCURACY:  100.0\n",
      "MEAN ACCURACY:  84.43037867546082\n",
      "\n",
      "\n",
      "ON STEP: 7900\n",
      "ACCURACY:  99.00000095367432\n",
      "MEAN ACCURACY:  84.61250066757202\n",
      "\n",
      "\n"
     ]
    }
   ],
   "source": [
    "meanacc=[]\n",
    "with tf.Session() as sess:\n",
    "    #First, run vars_initializer to initialize all variables\n",
    "    sess.run(vars_initializer)\n",
    "    for i in range(steps):\n",
    "        #each batch: 100 images\n",
    "        batch_x,batch_y = ch.next_batch(100)\n",
    "        \n",
    "        #train the model\n",
    "        #dropout keep_prob (% to keep):0.5 --> 50% will be dropped out\n",
    "        sess.run(cnn_trainer,feed_dict={x:batch_x,y_true:batch_y,hold_prob:0.5})\n",
    "\n",
    "        \n",
    "        #test the model: at each 100th step\n",
    "        #run the block of code for each 100 times of training, each time run a batch\n",
    "        if i % 100 == 0:\n",
    "            print('ON STEP: {}'.format(i))\n",
    "            \n",
    "            #COMPARE TO find matches of y_pred and y_true\n",
    "            matches=tf.equal(tf.argmax(y_pred,axis=1),tf.argmax(y_true,axis=1))\n",
    "            \n",
    "            #cost the matches from integers to tf.float32\n",
    "            #calculate the accuracy using the mean of matches\n",
    "            acc=tf.reduce_mean(tf.cast(matches,tf.float32))\n",
    "            \n",
    "            #test the model at each 100th step\n",
    "            #using test dataset\n",
    "            #dropout: NONE because of the test , not training\n",
    "            test_accuracy=sess.run(acc,feed_dict={x:batch_x,y_true:batch_y,hold_prob:1.0})\n",
    "            meanacc.append(test_accuracy)\n",
    "            \n",
    "            print('ACCURACY: ',test_accuracy*100)\n",
    "            print('MEAN ACCURACY: ',np.mean(meanacc)*100)\n",
    "            print('\\n')"
   ]
  },
  {
   "cell_type": "code",
   "execution_count": 43,
   "metadata": {},
   "outputs": [
    {
     "name": "stdout",
     "output_type": "stream",
     "text": [
      "[0.15, 0.41, 0.52, 0.51, 0.54, 0.61, 0.58, 0.59, 0.63, 0.62, 0.69, 0.73, 0.71, 0.67, 0.67, 0.79, 0.76, 0.76, 0.72, 0.8, 0.77, 0.82, 0.75, 0.75, 0.8, 0.83, 0.83, 0.83, 0.76, 0.81, 0.91, 0.89, 0.87, 0.81, 0.86, 0.9, 0.89, 0.92, 0.84, 0.86, 0.93, 0.94, 0.93, 0.9, 0.95, 0.96, 0.96, 0.93, 0.9, 0.96, 0.94, 0.95, 0.91, 0.92, 0.94, 0.96, 0.96, 0.96, 0.95, 0.97, 0.97, 1.0, 0.98, 0.96, 0.97, 0.99, 0.99, 0.96, 0.98, 0.99, 1.0, 1.0, 0.97, 0.98, 0.98, 1.0, 1.0, 1.0, 1.0, 0.99]\n"
     ]
    }
   ],
   "source": [
    "ACC_cnn_cifar_10=meanacc\n",
    "print(ACC_cnn_cifar_10)"
   ]
  },
  {
   "cell_type": "code",
   "execution_count": 44,
   "metadata": {},
   "outputs": [
    {
     "data": {
      "text/plain": [
       "84.61250066757202"
      ]
     },
     "execution_count": 44,
     "metadata": {},
     "output_type": "execute_result"
    }
   ],
   "source": [
    "np.mean(ACC_cnn_cifar_10)*100"
   ]
  },
  {
   "cell_type": "code",
   "execution_count": null,
   "metadata": {},
   "outputs": [],
   "source": []
  }
 ],
 "metadata": {
  "kernelspec": {
   "display_name": "Python 3",
   "language": "python",
   "name": "python3"
  },
  "language_info": {
   "codemirror_mode": {
    "name": "ipython",
    "version": 3
   },
   "file_extension": ".py",
   "mimetype": "text/x-python",
   "name": "python",
   "nbconvert_exporter": "python",
   "pygments_lexer": "ipython3",
   "version": "3.7.6"
  }
 },
 "nbformat": 4,
 "nbformat_minor": 2
}
